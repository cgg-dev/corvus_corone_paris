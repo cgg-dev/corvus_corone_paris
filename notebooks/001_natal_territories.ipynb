{
 "cells": [
  {
   "cell_type": "code",
   "execution_count": null,
   "metadata": {},
   "outputs": [],
   "source": [
    "import geopandas as gpd\n",
    "import pandas as pd\n",
    "import numpy as np\n",
    "import seaborn as sns\n",
    "import matplotlib.pyplot as plt\n",
    "import colorcet as cc\n",
    "import ipywidgets as widgets\n",
    "\n",
    "%run _helpers.py\n",
    "\n",
    "sns.set_theme()\n",
    "pd.set_option('display.max_rows', 80)\n",
    "idx = pd.IndexSlice\n",
    "\n",
    "gdf_clean = gpd.read_parquet('../data/processed/clean.parquet')\n",
    "print(f\"loaded {gdf_clean.shape[0]} datapoints\")"
   ]
  },
  {
   "cell_type": "code",
   "execution_count": 2,
   "metadata": {},
   "outputs": [],
   "source": [
    "gdf_population = gpd.read_parquet('../data/processed/subset_territorial_season.parquet')\n",
    "gdf_night = gpd.read_parquet('../data/processed/subset_cohorts_juvenile_nights_timeshifted.parquet')\n",
    "gdf_natal_candidates = gpd.read_parquet('../data/processed/areas_natal_territory_candidates.parquet')"
   ]
  },
  {
   "cell_type": "code",
   "execution_count": null,
   "metadata": {},
   "outputs": [],
   "source": [
    "gdf_natal_candidates.loc[idx[:,1],:]"
   ]
  },
  {
   "cell_type": "code",
   "execution_count": null,
   "metadata": {},
   "outputs": [],
   "source": [
    "w_ind = widgets.Dropdown(options=gdf_natal_candidates.index.levels[0].to_list())\n",
    "w_ind"
   ]
  },
  {
   "cell_type": "code",
   "execution_count": null,
   "metadata": {},
   "outputs": [],
   "source": [
    "# show clusters and juvenile night positions\n",
    "\n",
    "ind = w_ind.value\n",
    "\n",
    "gdf_areas = gdf_natal_candidates.loc[idx[ind,:],:]\n",
    "gdf_ind = gdf_night.loc[idx[ind,:],:]\n",
    "cohort = gdf_areas.year.iloc[0]\n",
    "\n",
    "display(gdf_areas)\n",
    "m = gdf_areas.reset_index().explore(color='orange')\n",
    "equipped = gdf_ind.index.get_level_values(1).min()\n",
    "age = (gdf_ind.index.get_level_values(1) - equipped).days\n",
    "gdf_ind.reset_index().explore(column=age, cmap='viridis', m=m)"
   ]
  },
  {
   "cell_type": "code",
   "execution_count": null,
   "metadata": {},
   "outputs": [],
   "source": [
    "# show full juvenile data\n",
    "\n",
    "gdf = gdf_clean.loc[idx[ind,:],:]\n",
    "gdf = gdf.loc[gdf.age == 0.]\n",
    "\n",
    "fig, axes = plt.subplot_mosaic('A', figsize=(8,2))\n",
    "sns.scatterplot(gdf, x='ts', y='ind', marker='.', color='k', linewidth=0., ax=axes['A'])\n",
    "axes['A'].set_xlabel(None)\n",
    "axes['A'].set_ylabel(None)\n",
    "fig.tight_layout()\n",
    "plt.show()\n",
    "\n",
    "m = gdf_areas.reset_index().explore(color='orange')\n",
    "_expl(gdf, m=m)"
   ]
  },
  {
   "cell_type": "code",
   "execution_count": null,
   "metadata": {},
   "outputs": [],
   "source": [
    "# show co-occurrence on clusters\n",
    "  \n",
    "gdf_areas = gdf_natal_candidates.loc[idx[ind,:],:]\n",
    "gdf = gdf_population.loc[gdf_population.index.get_level_values(1).year == cohort]\n",
    "gdf = gdf.sjoin(gdf_areas).rename_axis(['ind','ts'])\n",
    "\n",
    "display(gdf.groupby(level=0).lat.count())\n",
    "\n",
    "fig, axes = plt.subplot_mosaic('A', figsize=(10,6))\n",
    "sns.scatterplot(gdf, x='ts', y='ind', marker='.', hue=gdf['rank'], palette=cc.cm.glasbey, linewidth=0., ax=axes['A'])\n",
    "axes['A'].set_xlabel(None)\n",
    "axes['A'].set_ylabel(None)\n",
    "fig.tight_layout()\n",
    "plt.show()\n",
    "\n",
    "m = gdf_areas.reset_index().explore(color='orange')\n",
    "gdf.loc[gdf.index.get_level_values(0) != gdf_areas.index.get_level_values(0)[0]].reset_index().explore(column='ind', cmap=cc.cm.glasbey, m=m)"
   ]
  }
 ],
 "metadata": {
  "kernelspec": {
   "display_name": ".venv",
   "language": "python",
   "name": "python3"
  },
  "language_info": {
   "codemirror_mode": {
    "name": "ipython",
    "version": 3
   },
   "file_extension": ".py",
   "mimetype": "text/x-python",
   "name": "python",
   "nbconvert_exporter": "python",
   "pygments_lexer": "ipython3",
   "version": "3.12.4"
  }
 },
 "nbformat": 4,
 "nbformat_minor": 2
}
